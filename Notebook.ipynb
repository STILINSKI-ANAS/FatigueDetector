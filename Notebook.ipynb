{
 "cells": [
  {
   "cell_type": "code",
   "execution_count": null,
   "id": "initial_id",
   "metadata": {},
   "outputs": [],
   "source": [
    "import cv2\n",
    "import numpy as np\n",
    "from face_action import FaceAction\n",
    "import csv\n",
    "import os\n",
    "import matplotlib.pyplot as plt\n"
   ]
  },
  {
   "cell_type": "code",
   "execution_count": null,
   "id": "3a04fd5f2262bc62",
   "metadata": {
    "collapsed": false
   },
   "outputs": [],
   "source": [
    "def process_frame(frame, brightness, contrast, hist_eq, canny_ed, detect_fatigue_enabled, dilation_enabled, erosion_enabled, kernel_size, face_action):\n",
    "    processed_frame = frame.copy()\n",
    "\n",
    "    processed_frame = apply_grayscale(processed_frame)\n",
    "    processed_frame = apply_blur(processed_frame)\n",
    "    processed_frame = apply_brightness(processed_frame, brightness)\n",
    "    processed_frame = apply_contrast(processed_frame, contrast)\n",
    "    processed_frame = apply_hist_eq(processed_frame, hist_eq)\n",
    "    processed_frame = apply_canny_edge_detection(processed_frame, canny_ed)\n",
    "    processed_frame = apply_dilation_erosion(processed_frame, dilation_enabled, erosion_enabled, kernel_size)\n",
    "    processed_frame = apply_detect_fatigue(processed_frame, detect_fatigue_enabled, face_action)\n",
    "\n",
    "    return processed_frame"
   ]
  },
  {
   "cell_type": "code",
   "execution_count": null,
   "id": "e643087d6c6491ff",
   "metadata": {
    "collapsed": false
   },
   "outputs": [],
   "source": [
    "def apply_grayscale(frame):\n",
    "    frame = cv2.cvtColor(frame, cv2.COLOR_BGR2GRAY)\n",
    "    return frame\n"
   ]
  },
  {
   "cell_type": "code",
   "execution_count": null,
   "id": "9d7b3c3b33cffd27",
   "metadata": {
    "collapsed": false
   },
   "outputs": [],
   "source": [
    "def apply_blur(frame):\n",
    "    frame = cv2.GaussianBlur(frame, (5, 5), 0)\n",
    "    return frame\n"
   ]
  },
  {
   "cell_type": "code",
   "execution_count": null,
   "id": "820fb593da6f3966",
   "metadata": {
    "collapsed": false
   },
   "outputs": [],
   "source": [
    "def apply_brightness(frame, brightness):\n",
    "    frame = cv2.add(frame, brightness)\n",
    "    frame = np.clip(frame, 0, 255)\n",
    "    return frame\n"
   ]
  },
  {
   "cell_type": "code",
   "execution_count": null,
   "id": "547fd53162f40222",
   "metadata": {
    "collapsed": false
   },
   "outputs": [],
   "source": [
    "def apply_contrast(frame, contrast):\n",
    "    frame = cv2.multiply(frame, contrast)\n",
    "    frame = np.clip(frame, 0, 255)\n",
    "    return frame\n"
   ]
  },
  {
   "cell_type": "code",
   "execution_count": null,
   "id": "790672e089b202be",
   "metadata": {
    "collapsed": false
   },
   "outputs": [],
   "source": [
    "def apply_hist_eq(frame, hist_eq):\n",
    "    if hist_eq:\n",
    "        channels = cv2.split(frame)\n",
    "        equalized_channels = [cv2.equalizeHist(channel) for channel in channels]\n",
    "        frame = cv2.merge(equalized_channels)\n",
    "    return frame\n"
   ]
  },
  {
   "cell_type": "code",
   "execution_count": null,
   "id": "1185f55271e46307",
   "metadata": {
    "collapsed": false
   },
   "outputs": [],
   "source": [
    "def apply_detect_fatigue(frame, detect_fatigue_enabled, face_action):\n",
    "    person_data_ = []\n",
    "    if detect_fatigue_enabled:\n",
    "        results = face_action.run_frame(frame)\n",
    "        fatigue_count = 0\n",
    "        for i, (ear, mar, leftEye, rightEye, mouth, leftEAR, rightEAR) in enumerate(results, start=1):\n",
    "            person_data = [\n",
    "                f\"Personne:{i} \",\n",
    "                f\"{leftEAR:.2f} \",\n",
    "                f\"{rightEAR:.2f} \",\n",
    "                f\"{ear:.2f} \",\n",
    "                f\"{mar:.2f} \"\n",
    "            ]\n",
    "            for point in rightEye:\n",
    "                cv2.circle(frame, tuple(point), 2, (0, 255, 0), -1)\n",
    "            for point in leftEye:\n",
    "                cv2.circle(frame, tuple(point), 2, (0, 255, 0), -1)\n",
    "            for point in mouth:\n",
    "                cv2.circle(frame, tuple(point), 2, (0, 255, 0), -1)\n",
    "            cv2.putText(frame, f\"œil gauche : {leftEAR:.2f}\", (leftEye[0][0] - 190, leftEye[0][1]),cv2.FONT_HERSHEY_SIMPLEX, 0.5, (255, 0, 0), 1)\n",
    "            cv2.putText(frame, f\"œil droite : {rightEAR:.2f}\", (leftEye[0][0] + 40, leftEye[0][1]),cv2.FONT_HERSHEY_SIMPLEX, 0.5, (255, 0, 0), 1)\n",
    "    \n",
    "            if ear < 0.25 or mar > 0.7:\n",
    "                fatigue_count += 1\n",
    "            person_data_.append(person_data)\n",
    "            print(person_data_)\n",
    "            save_person_data(person_data_)\n",
    "    \n",
    "    return frame"
   ]
  },
  {
   "cell_type": "code",
   "execution_count": null,
   "id": "d34b8049a0ba3843",
   "metadata": {
    "collapsed": false
   },
   "outputs": [],
   "source": [
    "def apply_canny_edge_detection(frame, canny_ed):\n",
    "    if canny_ed:\n",
    "        if frame.dtype != np.uint8:\n",
    "            frame = frame.astype(np.uint8)\n",
    "        frame = cv2.Canny(frame, 50, 150)\n",
    "    return frame\n"
   ]
  },
  {
   "cell_type": "code",
   "execution_count": null,
   "id": "e6e24f5707cfa45c",
   "metadata": {
    "collapsed": false
   },
   "outputs": [],
   "source": [
    "def apply_dilation_erosion(frame, dilation_enabled, erosion_enabled, kernel_size):\n",
    "    if dilation_enabled:\n",
    "        kernel = np.ones((kernel_size, kernel_size), np.uint8)\n",
    "        frame = cv2.dilate(frame, kernel, iterations=1)\n",
    "\n",
    "    if erosion_enabled:\n",
    "        kernel = np.ones((kernel_size, kernel_size), np.uint8)\n",
    "        frame = cv2.erode(frame, kernel, iterations=1)\n",
    "\n",
    "    return frame\n"
   ]
  },
  {
   "cell_type": "code",
   "execution_count": null,
   "id": "873cd6d30c712aa2",
   "metadata": {
    "collapsed": false
   },
   "outputs": [],
   "source": [
    "def save_person_data(last_detected_person_data):\n",
    "    filename = \"person_data_note.csv\"\n",
    "    write_header = not os.path.exists(filename)\n",
    "\n",
    "    with open(filename, 'a', newline='') as csvfile:\n",
    "        csv_writer = csv.writer(csvfile)\n",
    "\n",
    "        if write_header:\n",
    "            csv_writer.writerow([\"Person\", \"Left Ear\", \"Right Ear\", \"EAR\", \"MAR\"])\n",
    "\n",
    "        if last_detected_person_data:\n",
    "            csv_writer.writerows(last_detected_person_data)\n"
   ]
  },
  {
   "cell_type": "code",
   "execution_count": null,
   "id": "f3728b551fa1ae8d",
   "metadata": {
    "collapsed": false
   },
   "outputs": [],
   "source": [
    "cap = cv2.VideoCapture(0)\n",
    "face_action = FaceAction()\n",
    "\n",
    "brightness = 0\n",
    "contrast = 1\n",
    "hist_eq = False\n",
    "canny_ed = False\n",
    "detect_fatigue_enabled = True\n",
    "dilation_enabled = False\n",
    "erosion_enabled = False\n",
    "kernel_size = 3\n",
    "\n",
    "ret, frame = cap.read()\n",
    "cap.release()\n",
    "processed_frame = process_frame(frame, brightness, contrast, hist_eq, canny_ed, detect_fatigue_enabled, dilation_enabled, erosion_enabled, kernel_size, face_action)\n",
    "\n",
    "# Display the processed frame using Matplotlib\n",
    "plt.imshow(cv2.cvtColor(processed_frame, cv2.COLOR_BGR2RGB))\n",
    "plt.show()"
   ]
  }
 ],
 "metadata": {
  "kernelspec": {
   "display_name": "Python 3 (ipykernel)",
   "language": "python",
   "name": "python3"
  },
  "language_info": {
   "codemirror_mode": {
    "name": "ipython",
    "version": 3
   },
   "file_extension": ".py",
   "mimetype": "text/x-python",
   "name": "python",
   "nbconvert_exporter": "python",
   "pygments_lexer": "ipython3",
   "version": "3.10.0"
  }
 },
 "nbformat": 4,
 "nbformat_minor": 5
}
